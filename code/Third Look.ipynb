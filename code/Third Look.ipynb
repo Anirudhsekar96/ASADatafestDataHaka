{
 "cells": [
  {
   "cell_type": "code",
   "execution_count": 1,
   "metadata": {},
   "outputs": [],
   "source": [
    "import pandas as pd\n",
    "import numpy as np\n",
    "import matplotlib.pyplot as plt\n",
    "from datetime import datetime, timedelta\n",
    "import warnings\n",
    "\n",
    "warnings.simplefilter('ignore')\n",
    "%matplotlib inline"
   ]
  },
  {
   "cell_type": "code",
   "execution_count": 2,
   "metadata": {},
   "outputs": [],
   "source": [
    "rpe_df = pd.read_csv(\"../data/rpe.csv\")\n",
    "games_df = pd.read_csv(\"../data/games.csv\")\n",
    "gps_df = pd.read_csv(\"../data/gps.csv\")\n",
    "well_df = pd.read_csv(\"../data/wellness.csv\")"
   ]
  },
  {
   "cell_type": "code",
   "execution_count": 3,
   "metadata": {},
   "outputs": [
    {
     "data": {
      "text/html": [
       "<div>\n",
       "<style scoped>\n",
       "    .dataframe tbody tr th:only-of-type {\n",
       "        vertical-align: middle;\n",
       "    }\n",
       "\n",
       "    .dataframe tbody tr th {\n",
       "        vertical-align: top;\n",
       "    }\n",
       "\n",
       "    .dataframe thead th {\n",
       "        text-align: right;\n",
       "    }\n",
       "</style>\n",
       "<table border=\"1\" class=\"dataframe\">\n",
       "  <thead>\n",
       "    <tr style=\"text-align: right;\">\n",
       "      <th></th>\n",
       "      <th>Date</th>\n",
       "      <th>PlayerID</th>\n",
       "      <th>Training</th>\n",
       "      <th>SessionType</th>\n",
       "      <th>Duration</th>\n",
       "      <th>RPE</th>\n",
       "      <th>SessionLoad</th>\n",
       "      <th>DailyLoad</th>\n",
       "      <th>AcuteLoad</th>\n",
       "      <th>ChronicLoad</th>\n",
       "      <th>...</th>\n",
       "      <th>Date_7</th>\n",
       "      <th>Date_30</th>\n",
       "      <th>Sesspseudo7Sess</th>\n",
       "      <th>Sesspseudo30Sess</th>\n",
       "      <th>Sesspseudo7All</th>\n",
       "      <th>Sesspseudo30All</th>\n",
       "      <th>Dailypseudo7Sess</th>\n",
       "      <th>Dailypseudo30Sess</th>\n",
       "      <th>Dailypseudo7All</th>\n",
       "      <th>Dailypseudo30All</th>\n",
       "    </tr>\n",
       "  </thead>\n",
       "  <tbody>\n",
       "    <tr>\n",
       "      <th>0</th>\n",
       "      <td>2018-07-21</td>\n",
       "      <td>13</td>\n",
       "      <td>Yes</td>\n",
       "      <td>Mobility/Recovery</td>\n",
       "      <td>5.0</td>\n",
       "      <td>0.0</td>\n",
       "      <td>0.0</td>\n",
       "      <td>446.0</td>\n",
       "      <td>323.1</td>\n",
       "      <td>303.25</td>\n",
       "      <td>...</td>\n",
       "      <td>2018-07-14</td>\n",
       "      <td>2018-06-21</td>\n",
       "      <td>0.0</td>\n",
       "      <td>0.0</td>\n",
       "      <td>161.571429</td>\n",
       "      <td>177.696429</td>\n",
       "      <td>223.0</td>\n",
       "      <td>285.142857</td>\n",
       "      <td>377.0</td>\n",
       "      <td>497.550000</td>\n",
       "    </tr>\n",
       "    <tr>\n",
       "      <th>1</th>\n",
       "      <td>2018-07-21</td>\n",
       "      <td>13</td>\n",
       "      <td>Yes</td>\n",
       "      <td>Game</td>\n",
       "      <td>29.0</td>\n",
       "      <td>7.0</td>\n",
       "      <td>203.0</td>\n",
       "      <td>NaN</td>\n",
       "      <td>NaN</td>\n",
       "      <td>NaN</td>\n",
       "      <td>...</td>\n",
       "      <td>2018-07-14</td>\n",
       "      <td>2018-06-21</td>\n",
       "      <td>188.0</td>\n",
       "      <td>188.0</td>\n",
       "      <td>161.571429</td>\n",
       "      <td>177.696429</td>\n",
       "      <td>306.0</td>\n",
       "      <td>306.000000</td>\n",
       "      <td>377.0</td>\n",
       "      <td>497.550000</td>\n",
       "    </tr>\n",
       "    <tr>\n",
       "      <th>2</th>\n",
       "      <td>2018-07-21</td>\n",
       "      <td>13</td>\n",
       "      <td>Yes</td>\n",
       "      <td>Game</td>\n",
       "      <td>27.0</td>\n",
       "      <td>9.0</td>\n",
       "      <td>243.0</td>\n",
       "      <td>NaN</td>\n",
       "      <td>NaN</td>\n",
       "      <td>NaN</td>\n",
       "      <td>...</td>\n",
       "      <td>2018-07-14</td>\n",
       "      <td>2018-06-21</td>\n",
       "      <td>188.0</td>\n",
       "      <td>188.0</td>\n",
       "      <td>161.571429</td>\n",
       "      <td>177.696429</td>\n",
       "      <td>306.0</td>\n",
       "      <td>306.000000</td>\n",
       "      <td>377.0</td>\n",
       "      <td>497.550000</td>\n",
       "    </tr>\n",
       "    <tr>\n",
       "      <th>3</th>\n",
       "      <td>2018-07-20</td>\n",
       "      <td>11</td>\n",
       "      <td>Yes</td>\n",
       "      <td>Game</td>\n",
       "      <td>36.0</td>\n",
       "      <td>6.0</td>\n",
       "      <td>216.0</td>\n",
       "      <td>534.0</td>\n",
       "      <td>256.3</td>\n",
       "      <td>344.18</td>\n",
       "      <td>...</td>\n",
       "      <td>2018-07-13</td>\n",
       "      <td>2018-06-20</td>\n",
       "      <td>252.0</td>\n",
       "      <td>184.0</td>\n",
       "      <td>299.000000</td>\n",
       "      <td>254.085106</td>\n",
       "      <td>534.0</td>\n",
       "      <td>534.000000</td>\n",
       "      <td>448.5</td>\n",
       "      <td>702.470588</td>\n",
       "    </tr>\n",
       "    <tr>\n",
       "      <th>4</th>\n",
       "      <td>2018-07-20</td>\n",
       "      <td>11</td>\n",
       "      <td>Yes</td>\n",
       "      <td>Game</td>\n",
       "      <td>36.0</td>\n",
       "      <td>8.0</td>\n",
       "      <td>288.0</td>\n",
       "      <td>NaN</td>\n",
       "      <td>NaN</td>\n",
       "      <td>NaN</td>\n",
       "      <td>...</td>\n",
       "      <td>2018-07-13</td>\n",
       "      <td>2018-06-20</td>\n",
       "      <td>252.0</td>\n",
       "      <td>184.0</td>\n",
       "      <td>299.000000</td>\n",
       "      <td>254.085106</td>\n",
       "      <td>534.0</td>\n",
       "      <td>534.000000</td>\n",
       "      <td>448.5</td>\n",
       "      <td>702.470588</td>\n",
       "    </tr>\n",
       "  </tbody>\n",
       "</table>\n",
       "<p>5 rows × 24 columns</p>\n",
       "</div>"
      ],
      "text/plain": [
       "        Date  PlayerID Training        SessionType  Duration  RPE  \\\n",
       "0 2018-07-21        13      Yes  Mobility/Recovery       5.0  0.0   \n",
       "1 2018-07-21        13      Yes               Game      29.0  7.0   \n",
       "2 2018-07-21        13      Yes               Game      27.0  9.0   \n",
       "3 2018-07-20        11      Yes               Game      36.0  6.0   \n",
       "4 2018-07-20        11      Yes               Game      36.0  8.0   \n",
       "\n",
       "   SessionLoad  DailyLoad  AcuteLoad  ChronicLoad        ...         \\\n",
       "0          0.0      446.0      323.1       303.25        ...          \n",
       "1        203.0        NaN        NaN          NaN        ...          \n",
       "2        243.0        NaN        NaN          NaN        ...          \n",
       "3        216.0      534.0      256.3       344.18        ...          \n",
       "4        288.0        NaN        NaN          NaN        ...          \n",
       "\n",
       "      Date_7    Date_30  Sesspseudo7Sess Sesspseudo30Sess Sesspseudo7All  \\\n",
       "0 2018-07-14 2018-06-21              0.0              0.0     161.571429   \n",
       "1 2018-07-14 2018-06-21            188.0            188.0     161.571429   \n",
       "2 2018-07-14 2018-06-21            188.0            188.0     161.571429   \n",
       "3 2018-07-13 2018-06-20            252.0            184.0     299.000000   \n",
       "4 2018-07-13 2018-06-20            252.0            184.0     299.000000   \n",
       "\n",
       "  Sesspseudo30All  Dailypseudo7Sess  Dailypseudo30Sess  Dailypseudo7All  \\\n",
       "0      177.696429             223.0         285.142857            377.0   \n",
       "1      177.696429             306.0         306.000000            377.0   \n",
       "2      177.696429             306.0         306.000000            377.0   \n",
       "3      254.085106             534.0         534.000000            448.5   \n",
       "4      254.085106             534.0         534.000000            448.5   \n",
       "\n",
       "   Dailypseudo30All  \n",
       "0        497.550000  \n",
       "1        497.550000  \n",
       "2        497.550000  \n",
       "3        702.470588  \n",
       "4        702.470588  \n",
       "\n",
       "[5 rows x 24 columns]"
      ]
     },
     "execution_count": 3,
     "metadata": {},
     "output_type": "execute_result"
    }
   ],
   "source": [
    "'''\n",
    "    Insights: \n",
    "                1. The data for DailyLoad, AcuteLoad, ChronicLoad and AcuteChronicRatio are missing for players when the session\n",
    "                    type is Combat\n",
    "    \n",
    "    Cleaning:\n",
    "                1. Have dropped N/A values in place\n",
    "                2. Changed Best out of Myself ordinal to Numerical values (1,0.5,0)\n",
    "                3. Also added Psuedo running averages for 7 day load and 30 day load\n",
    "    \n",
    "    # groupby player id, Normalize from (0,1) over axis 0 for each variable\n",
    "    # Can also use session type, and training as groupby variables\n",
    "    \n",
    "    Convert Best outof myself from ordinal to numerical\n",
    "    fill_na with a negative value. Can also do a missing value plot to see under which values are the data missing \n",
    "    (i.e. MCAR/ MAR etc.). # R\n",
    "    \n",
    "    Date, Player id with well \n",
    "    \n",
    "'''\n",
    "\n",
    "rpe_df['Date'] = pd.to_datetime(rpe_df.Date)\n",
    "\n",
    "\n",
    "time_7 = rpe_df.Date - timedelta(days=7)\n",
    "time_30 = rpe_df.Date - timedelta(days=30)\n",
    "\n",
    "rpe_df['Date_7'] = time_7\n",
    "rpe_df['Date_30'] = time_30\n",
    "\n",
    "\n",
    "def pseudo7S(x):\n",
    "    '''\n",
    "        Calculating the 7 Day running average with the session variable as a groupby object\n",
    "    '''\n",
    "    PlayerID = x['PlayerID']\n",
    "    SessionType = x['SessionType']\n",
    "    Training = x['Training']\n",
    "    Date = x['Date']\n",
    "    Date_7 = x['Date_7']\n",
    "    \n",
    "    new_val = rpe_df[(rpe_df[\"PlayerID\"]==PlayerID) & \n",
    "                     (rpe_df[\"SessionType\"]==SessionType) &\n",
    "                     (rpe_df[\"Training\"]==Training) &\n",
    "                     (rpe_df['Date']<=Date) &\n",
    "                     (rpe_df['Date']>=Date_7)\n",
    "          ]['SessionLoad'].dropna().mean()\n",
    "    \n",
    "    return(new_val)\n",
    "    \n",
    "\n",
    "def pseudo30S(x):\n",
    "    '''\n",
    "        Calculating the 30 Day moving average with the session variable as a groupby object\n",
    "    '''\n",
    "    PlayerID = x['PlayerID']\n",
    "    SessionType = x['SessionType']\n",
    "    Training = x['Training']\n",
    "    Date = x['Date']\n",
    "    Date_30 = x['Date_30']\n",
    "    \n",
    "    new_val = rpe_df[(rpe_df[\"PlayerID\"]==PlayerID) & \n",
    "                     (rpe_df[\"SessionType\"]==SessionType) &\n",
    "                     (rpe_df[\"Training\"]==Training) &\n",
    "                     (rpe_df['Date']<=Date) &\n",
    "                     (rpe_df['Date']>=Date_30)\n",
    "          ]['SessionLoad'].dropna().mean()\n",
    "    \n",
    "    return(new_val)\n",
    "    \n",
    "\n",
    "    \n",
    "def pseudo7A(x):\n",
    "    '''\n",
    "        Calculating the 7 day moving average with all the details\n",
    "    '''\n",
    "    PlayerID = x['PlayerID']\n",
    "    SessionType = x['SessionType']\n",
    "    Training = x['Training']\n",
    "    Date = x['Date']\n",
    "    Date_7 = x['Date_7']\n",
    "    \n",
    "    new_val = rpe_df[(rpe_df[\"PlayerID\"]==PlayerID) & \n",
    "                     (rpe_df['Date']<=Date) &\n",
    "                     (rpe_df['Date']>=Date_7)\n",
    "          ]['SessionLoad'].dropna().mean()\n",
    "    \n",
    "    return(new_val)\n",
    "    \n",
    "\n",
    "def pseudo30A(x):\n",
    "    '''\n",
    "        Calculating the 30 day moving average of session variable with all the details\n",
    "    '''\n",
    "    PlayerID = x['PlayerID']\n",
    "    SessionType = x['SessionType']\n",
    "    Training = x['Training']\n",
    "    Date = x['Date']\n",
    "    Date_30 = x['Date_30']\n",
    "    \n",
    "    new_val = rpe_df[(rpe_df[\"PlayerID\"]==PlayerID) & \n",
    "                         (rpe_df['Date']<=Date) &\n",
    "                         (rpe_df['Date']>=Date_30)\n",
    "          ]['SessionLoad'].dropna().mean()\n",
    "    \n",
    "    return(new_val)\n",
    "   \n",
    "def Dpseudo7S(x):\n",
    "    '''\n",
    "        Calculating the 7 Day running average with the session variable as a groupby object\n",
    "    '''\n",
    "    PlayerID = x['PlayerID']\n",
    "    SessionType = x['SessionType']\n",
    "    Training = x['Training']\n",
    "    Date = x['Date']\n",
    "    Date_7 = x['Date_7']\n",
    "    \n",
    "    new_val = rpe_df[(rpe_df[\"PlayerID\"]==PlayerID) & \n",
    "                     (rpe_df[\"SessionType\"]==SessionType) &\n",
    "                     (rpe_df[\"Training\"]==Training) &\n",
    "                     (rpe_df['Date']<=Date) &\n",
    "                     (rpe_df['Date']>=Date_7)\n",
    "          ]['DailyLoad'].dropna().mean()\n",
    "    \n",
    "    return(new_val)\n",
    "    \n",
    "\n",
    "def Dpseudo30S(x):\n",
    "    '''\n",
    "        Calculating the 30 Day moving average with the session variable as a groupby object\n",
    "    '''\n",
    "    PlayerID = x['PlayerID']\n",
    "    SessionType = x['SessionType']\n",
    "    Training = x['Training']\n",
    "    Date = x['Date']\n",
    "    Date_30 = x['Date_30']\n",
    "    \n",
    "    new_val = rpe_df[(rpe_df[\"PlayerID\"]==PlayerID) & \n",
    "                     (rpe_df[\"SessionType\"]==SessionType) &\n",
    "                     (rpe_df[\"Training\"]==Training) &\n",
    "                     (rpe_df['Date']<=Date) &\n",
    "                     (rpe_df['Date']>=Date_30)\n",
    "          ]['DailyLoad'].dropna().mean()\n",
    "    \n",
    "    return(new_val)\n",
    "    \n",
    "\n",
    "    \n",
    "def Dpseudo7A(x):\n",
    "    '''\n",
    "        Calculating the 7 day moving average with all the details\n",
    "    '''\n",
    "    PlayerID = x['PlayerID']\n",
    "    SessionType = x['SessionType']\n",
    "    Training = x['Training']\n",
    "    Date = x['Date']\n",
    "    Date_7 = x['Date_7']\n",
    "    \n",
    "    new_val = rpe_df[(rpe_df[\"PlayerID\"]==PlayerID) & \n",
    "                     (rpe_df['Date']<=Date) &\n",
    "                     (rpe_df['Date']>=Date_7)\n",
    "          ]['DailyLoad'].dropna().mean()\n",
    "    \n",
    "    return(new_val)\n",
    "    \n",
    "\n",
    "def Dpseudo30A(x):\n",
    "    '''\n",
    "        Calculating the 30 day moving average of session variable with all the details\n",
    "    '''\n",
    "    PlayerID = x['PlayerID']\n",
    "    SessionType = x['SessionType']\n",
    "    Training = x['Training']\n",
    "    Date = x['Date']\n",
    "    Date_30 = x['Date_30']\n",
    "    \n",
    "    new_val = rpe_df[(rpe_df[\"PlayerID\"]==PlayerID) & \n",
    "                         (rpe_df['Date']<=Date) &\n",
    "                         (rpe_df['Date']>=Date_30)\n",
    "          ]['DailyLoad'].dropna().mean()\n",
    "    \n",
    "    return(new_val)\n",
    "\n",
    "def BOM_num(x):\n",
    "    \"\"\"\n",
    "        Converts the bestofmatch ordinal variable to numerical value\n",
    "    \"\"\"\n",
    "    if(x=='Absolutely'):\n",
    "        return(1)\n",
    "    elif(x=='Somewhat'):\n",
    "        return(0.5)\n",
    "    elif(x=='Not at all'):\n",
    "        return(0)\n",
    "    else:\n",
    "        return(-1)\n",
    "\n",
    "    \n",
    "\n",
    "rpe_df[\"Sesspseudo7Sess\"] = rpe_df.apply(pseudo7S, axis=1)\n",
    "rpe_df[\"Sesspseudo30Sess\"] = rpe_df.apply(pseudo30S, axis=1)\n",
    "rpe_df[\"Sesspseudo7All\"] = rpe_df.apply(pseudo7A, axis=1)\n",
    "rpe_df[\"Sesspseudo30All\"] = rpe_df.apply(pseudo30A, axis=1)\n",
    "\n",
    "\n",
    "rpe_df[\"Dailypseudo7Sess\"] = rpe_df.apply(Dpseudo7S, axis=1)\n",
    "rpe_df[\"Dailypseudo30Sess\"] = rpe_df.apply(Dpseudo30S, axis=1)\n",
    "rpe_df[\"Dailypseudo7All\"] = rpe_df.apply(Dpseudo7A, axis=1)\n",
    "rpe_df[\"Dailypseudo30All\"] = rpe_df.apply(Dpseudo30A, axis=1)\n",
    "\n",
    "rpe_df.reset_index(drop=True,inplace=True)\n",
    "\n",
    "rpe_df.head()"
   ]
  },
  {
   "cell_type": "code",
   "execution_count": 4,
   "metadata": {},
   "outputs": [
    {
     "data": {
      "text/html": [
       "<div>\n",
       "<style scoped>\n",
       "    .dataframe tbody tr th:only-of-type {\n",
       "        vertical-align: middle;\n",
       "    }\n",
       "\n",
       "    .dataframe tbody tr th {\n",
       "        vertical-align: top;\n",
       "    }\n",
       "\n",
       "    .dataframe thead th {\n",
       "        text-align: right;\n",
       "    }\n",
       "</style>\n",
       "<table border=\"1\" class=\"dataframe\">\n",
       "  <thead>\n",
       "    <tr style=\"text-align: right;\">\n",
       "      <th></th>\n",
       "      <th>Date</th>\n",
       "      <th>PlayerID</th>\n",
       "      <th>Fatigue</th>\n",
       "      <th>Soreness</th>\n",
       "      <th>Desire</th>\n",
       "      <th>Irritability</th>\n",
       "      <th>BedTime</th>\n",
       "      <th>WakeTime</th>\n",
       "      <th>SleepHours</th>\n",
       "      <th>SleepQuality</th>\n",
       "      <th>MonitoringScore</th>\n",
       "      <th>Pain</th>\n",
       "      <th>Illness</th>\n",
       "      <th>Menstruation</th>\n",
       "      <th>Nutrition</th>\n",
       "      <th>NutritionAdjustment</th>\n",
       "      <th>USGMeasurement</th>\n",
       "      <th>USG</th>\n",
       "      <th>TrainingReadiness</th>\n",
       "    </tr>\n",
       "  </thead>\n",
       "  <tbody>\n",
       "    <tr>\n",
       "      <th>0</th>\n",
       "      <td>2018-07-21</td>\n",
       "      <td>1</td>\n",
       "      <td>3</td>\n",
       "      <td>3</td>\n",
       "      <td>2</td>\n",
       "      <td>3</td>\n",
       "      <td>23:00:00</td>\n",
       "      <td>07:00:00</td>\n",
       "      <td>8.00</td>\n",
       "      <td>2</td>\n",
       "      <td>13</td>\n",
       "      <td>No</td>\n",
       "      <td>No</td>\n",
       "      <td>Yes</td>\n",
       "      <td>Excellent</td>\n",
       "      <td>Yes</td>\n",
       "      <td>No</td>\n",
       "      <td>NaN</td>\n",
       "      <td>0%</td>\n",
       "    </tr>\n",
       "    <tr>\n",
       "      <th>1</th>\n",
       "      <td>2018-07-21</td>\n",
       "      <td>2</td>\n",
       "      <td>4</td>\n",
       "      <td>3</td>\n",
       "      <td>4</td>\n",
       "      <td>4</td>\n",
       "      <td>23:00:00</td>\n",
       "      <td>07:00:00</td>\n",
       "      <td>8.00</td>\n",
       "      <td>4</td>\n",
       "      <td>19</td>\n",
       "      <td>Yes</td>\n",
       "      <td>No</td>\n",
       "      <td>Yes</td>\n",
       "      <td>NaN</td>\n",
       "      <td>NaN</td>\n",
       "      <td>Yes</td>\n",
       "      <td>1.010</td>\n",
       "      <td>0%</td>\n",
       "    </tr>\n",
       "    <tr>\n",
       "      <th>2</th>\n",
       "      <td>2018-07-21</td>\n",
       "      <td>3</td>\n",
       "      <td>3</td>\n",
       "      <td>3</td>\n",
       "      <td>5</td>\n",
       "      <td>4</td>\n",
       "      <td>22:30:00</td>\n",
       "      <td>06:30:00</td>\n",
       "      <td>8.00</td>\n",
       "      <td>4</td>\n",
       "      <td>19</td>\n",
       "      <td>No</td>\n",
       "      <td>No</td>\n",
       "      <td>No</td>\n",
       "      <td>NaN</td>\n",
       "      <td>NaN</td>\n",
       "      <td>Yes</td>\n",
       "      <td>1.016</td>\n",
       "      <td>100%</td>\n",
       "    </tr>\n",
       "    <tr>\n",
       "      <th>3</th>\n",
       "      <td>2018-07-21</td>\n",
       "      <td>4</td>\n",
       "      <td>2</td>\n",
       "      <td>3</td>\n",
       "      <td>5</td>\n",
       "      <td>4</td>\n",
       "      <td>00:30:00</td>\n",
       "      <td>07:00:00</td>\n",
       "      <td>6.50</td>\n",
       "      <td>1</td>\n",
       "      <td>15</td>\n",
       "      <td>No</td>\n",
       "      <td>No</td>\n",
       "      <td>Yes</td>\n",
       "      <td>Excellent</td>\n",
       "      <td>Yes</td>\n",
       "      <td>Yes</td>\n",
       "      <td>1.025</td>\n",
       "      <td>95%</td>\n",
       "    </tr>\n",
       "    <tr>\n",
       "      <th>4</th>\n",
       "      <td>2018-07-21</td>\n",
       "      <td>5</td>\n",
       "      <td>5</td>\n",
       "      <td>3</td>\n",
       "      <td>4</td>\n",
       "      <td>4</td>\n",
       "      <td>23:45:00</td>\n",
       "      <td>07:00:00</td>\n",
       "      <td>7.25</td>\n",
       "      <td>4</td>\n",
       "      <td>20</td>\n",
       "      <td>No</td>\n",
       "      <td>No</td>\n",
       "      <td>No</td>\n",
       "      <td>Okay</td>\n",
       "      <td>Yes</td>\n",
       "      <td>Yes</td>\n",
       "      <td>1.022</td>\n",
       "      <td>100%</td>\n",
       "    </tr>\n",
       "  </tbody>\n",
       "</table>\n",
       "</div>"
      ],
      "text/plain": [
       "         Date  PlayerID  Fatigue  Soreness  Desire  Irritability   BedTime  \\\n",
       "0  2018-07-21         1        3         3       2             3  23:00:00   \n",
       "1  2018-07-21         2        4         3       4             4  23:00:00   \n",
       "2  2018-07-21         3        3         3       5             4  22:30:00   \n",
       "3  2018-07-21         4        2         3       5             4  00:30:00   \n",
       "4  2018-07-21         5        5         3       4             4  23:45:00   \n",
       "\n",
       "   WakeTime  SleepHours  SleepQuality  MonitoringScore Pain Illness  \\\n",
       "0  07:00:00        8.00             2               13   No      No   \n",
       "1  07:00:00        8.00             4               19  Yes      No   \n",
       "2  06:30:00        8.00             4               19   No      No   \n",
       "3  07:00:00        6.50             1               15   No      No   \n",
       "4  07:00:00        7.25             4               20   No      No   \n",
       "\n",
       "  Menstruation  Nutrition NutritionAdjustment USGMeasurement    USG  \\\n",
       "0          Yes  Excellent                 Yes             No    NaN   \n",
       "1          Yes        NaN                 NaN            Yes  1.010   \n",
       "2           No        NaN                 NaN            Yes  1.016   \n",
       "3          Yes  Excellent                 Yes            Yes  1.025   \n",
       "4           No       Okay                 Yes            Yes  1.022   \n",
       "\n",
       "  TrainingReadiness  \n",
       "0                0%  \n",
       "1                0%  \n",
       "2              100%  \n",
       "3               95%  \n",
       "4              100%  "
      ]
     },
     "execution_count": 4,
     "metadata": {},
     "output_type": "execute_result"
    }
   ],
   "source": [
    "well_df.head()"
   ]
  },
  {
   "cell_type": "code",
   "execution_count": 5,
   "metadata": {},
   "outputs": [
    {
     "data": {
      "text/html": [
       "<div>\n",
       "<style scoped>\n",
       "    .dataframe tbody tr th:only-of-type {\n",
       "        vertical-align: middle;\n",
       "    }\n",
       "\n",
       "    .dataframe tbody tr th {\n",
       "        vertical-align: top;\n",
       "    }\n",
       "\n",
       "    .dataframe thead th {\n",
       "        text-align: right;\n",
       "    }\n",
       "</style>\n",
       "<table border=\"1\" class=\"dataframe\">\n",
       "  <thead>\n",
       "    <tr style=\"text-align: right;\">\n",
       "      <th></th>\n",
       "      <th>Date</th>\n",
       "      <th>PlayerID</th>\n",
       "      <th>Training</th>\n",
       "      <th>SessionType</th>\n",
       "      <th>Duration</th>\n",
       "      <th>RPE</th>\n",
       "      <th>SessionLoad</th>\n",
       "      <th>DailyLoad</th>\n",
       "      <th>AcuteLoad</th>\n",
       "      <th>ChronicLoad</th>\n",
       "      <th>...</th>\n",
       "      <th>SleepQuality</th>\n",
       "      <th>MonitoringScore</th>\n",
       "      <th>Pain</th>\n",
       "      <th>Illness</th>\n",
       "      <th>Menstruation</th>\n",
       "      <th>Nutrition</th>\n",
       "      <th>NutritionAdjustment</th>\n",
       "      <th>USGMeasurement</th>\n",
       "      <th>USG</th>\n",
       "      <th>TrainingReadiness</th>\n",
       "    </tr>\n",
       "  </thead>\n",
       "  <tbody>\n",
       "    <tr>\n",
       "      <th>0</th>\n",
       "      <td>2018-07-21</td>\n",
       "      <td>13</td>\n",
       "      <td>Yes</td>\n",
       "      <td>Mobility/Recovery</td>\n",
       "      <td>5.0</td>\n",
       "      <td>0.0</td>\n",
       "      <td>0.0</td>\n",
       "      <td>446.0</td>\n",
       "      <td>323.1</td>\n",
       "      <td>303.25</td>\n",
       "      <td>...</td>\n",
       "      <td>4.0</td>\n",
       "      <td>20.0</td>\n",
       "      <td>No</td>\n",
       "      <td>No</td>\n",
       "      <td>No</td>\n",
       "      <td>Excellent</td>\n",
       "      <td>Yes</td>\n",
       "      <td>Yes</td>\n",
       "      <td>1.025</td>\n",
       "      <td>100%</td>\n",
       "    </tr>\n",
       "    <tr>\n",
       "      <th>1</th>\n",
       "      <td>2018-07-21</td>\n",
       "      <td>13</td>\n",
       "      <td>Yes</td>\n",
       "      <td>Game</td>\n",
       "      <td>29.0</td>\n",
       "      <td>7.0</td>\n",
       "      <td>203.0</td>\n",
       "      <td>NaN</td>\n",
       "      <td>NaN</td>\n",
       "      <td>NaN</td>\n",
       "      <td>...</td>\n",
       "      <td>4.0</td>\n",
       "      <td>20.0</td>\n",
       "      <td>No</td>\n",
       "      <td>No</td>\n",
       "      <td>No</td>\n",
       "      <td>Excellent</td>\n",
       "      <td>Yes</td>\n",
       "      <td>Yes</td>\n",
       "      <td>1.025</td>\n",
       "      <td>100%</td>\n",
       "    </tr>\n",
       "    <tr>\n",
       "      <th>2</th>\n",
       "      <td>2018-07-21</td>\n",
       "      <td>13</td>\n",
       "      <td>Yes</td>\n",
       "      <td>Game</td>\n",
       "      <td>27.0</td>\n",
       "      <td>9.0</td>\n",
       "      <td>243.0</td>\n",
       "      <td>NaN</td>\n",
       "      <td>NaN</td>\n",
       "      <td>NaN</td>\n",
       "      <td>...</td>\n",
       "      <td>4.0</td>\n",
       "      <td>20.0</td>\n",
       "      <td>No</td>\n",
       "      <td>No</td>\n",
       "      <td>No</td>\n",
       "      <td>Excellent</td>\n",
       "      <td>Yes</td>\n",
       "      <td>Yes</td>\n",
       "      <td>1.025</td>\n",
       "      <td>100%</td>\n",
       "    </tr>\n",
       "    <tr>\n",
       "      <th>3</th>\n",
       "      <td>2018-07-20</td>\n",
       "      <td>11</td>\n",
       "      <td>Yes</td>\n",
       "      <td>Game</td>\n",
       "      <td>36.0</td>\n",
       "      <td>6.0</td>\n",
       "      <td>216.0</td>\n",
       "      <td>534.0</td>\n",
       "      <td>256.3</td>\n",
       "      <td>344.18</td>\n",
       "      <td>...</td>\n",
       "      <td>4.0</td>\n",
       "      <td>22.0</td>\n",
       "      <td>No</td>\n",
       "      <td>Slightly Off</td>\n",
       "      <td>No</td>\n",
       "      <td>Excellent</td>\n",
       "      <td>Yes</td>\n",
       "      <td>Yes</td>\n",
       "      <td>1.016</td>\n",
       "      <td>100%</td>\n",
       "    </tr>\n",
       "    <tr>\n",
       "      <th>4</th>\n",
       "      <td>2018-07-20</td>\n",
       "      <td>11</td>\n",
       "      <td>Yes</td>\n",
       "      <td>Game</td>\n",
       "      <td>36.0</td>\n",
       "      <td>8.0</td>\n",
       "      <td>288.0</td>\n",
       "      <td>NaN</td>\n",
       "      <td>NaN</td>\n",
       "      <td>NaN</td>\n",
       "      <td>...</td>\n",
       "      <td>4.0</td>\n",
       "      <td>22.0</td>\n",
       "      <td>No</td>\n",
       "      <td>Slightly Off</td>\n",
       "      <td>No</td>\n",
       "      <td>Excellent</td>\n",
       "      <td>Yes</td>\n",
       "      <td>Yes</td>\n",
       "      <td>1.016</td>\n",
       "      <td>100%</td>\n",
       "    </tr>\n",
       "  </tbody>\n",
       "</table>\n",
       "<p>5 rows × 41 columns</p>\n",
       "</div>"
      ],
      "text/plain": [
       "        Date  PlayerID Training        SessionType  Duration  RPE  \\\n",
       "0 2018-07-21        13      Yes  Mobility/Recovery       5.0  0.0   \n",
       "1 2018-07-21        13      Yes               Game      29.0  7.0   \n",
       "2 2018-07-21        13      Yes               Game      27.0  9.0   \n",
       "3 2018-07-20        11      Yes               Game      36.0  6.0   \n",
       "4 2018-07-20        11      Yes               Game      36.0  8.0   \n",
       "\n",
       "   SessionLoad  DailyLoad  AcuteLoad  ChronicLoad        ...          \\\n",
       "0          0.0      446.0      323.1       303.25        ...           \n",
       "1        203.0        NaN        NaN          NaN        ...           \n",
       "2        243.0        NaN        NaN          NaN        ...           \n",
       "3        216.0      534.0      256.3       344.18        ...           \n",
       "4        288.0        NaN        NaN          NaN        ...           \n",
       "\n",
       "   SleepQuality  MonitoringScore  Pain       Illness Menstruation  Nutrition  \\\n",
       "0           4.0             20.0    No            No           No  Excellent   \n",
       "1           4.0             20.0    No            No           No  Excellent   \n",
       "2           4.0             20.0    No            No           No  Excellent   \n",
       "3           4.0             22.0    No  Slightly Off           No  Excellent   \n",
       "4           4.0             22.0    No  Slightly Off           No  Excellent   \n",
       "\n",
       "   NutritionAdjustment  USGMeasurement    USG  TrainingReadiness  \n",
       "0                  Yes             Yes  1.025               100%  \n",
       "1                  Yes             Yes  1.025               100%  \n",
       "2                  Yes             Yes  1.025               100%  \n",
       "3                  Yes             Yes  1.016               100%  \n",
       "4                  Yes             Yes  1.016               100%  \n",
       "\n",
       "[5 rows x 41 columns]"
      ]
     },
     "execution_count": 5,
     "metadata": {},
     "output_type": "execute_result"
    }
   ],
   "source": [
    "well_df['Date'] = pd.to_datetime(well_df['Date'])\n",
    "new_combined_df = pd.merge(rpe_df,well_df, on=['Date','PlayerID'],how='outer')\n",
    "\n",
    "new_combined_df.head()\n"
   ]
  },
  {
   "cell_type": "code",
   "execution_count": 6,
   "metadata": {},
   "outputs": [],
   "source": [
    "# Subsetting the dataframes\n",
    "\n",
    "new_df_org = new_combined_df[['Date','PlayerID','Fatigue','AcuteLoad','ChronicLoad']]\n",
    "new_df_org.dropna(inplace=True)\n",
    "new_df_org.sort_values(by='Date',inplace=True)\n",
    "#new_df_org.head()\n",
    "#print(new_df_org.shape)\n",
    "X_train_org = new_df_org.drop(['Date','Fatigue'],axis=1)[-3000:]\n",
    "X_test_org = new_df_org.drop(['Date','Fatigue'],axis=1)[:1000]\n",
    "\n",
    "\n",
    "y_train_org = new_df_org['Fatigue'][-3000:]\n",
    "y_test_org = new_df_org['Fatigue'][:1000]\n",
    "\n",
    "\n",
    "new_df_syn = new_combined_df[['Date',\n",
    "                              'PlayerID',\n",
    "                              'Fatigue',\n",
    "                              'Sesspseudo7Sess',\n",
    "                              'Sesspseudo30Sess',\n",
    "                              'Sesspseudo7All',\n",
    "                              'Sesspseudo30All',\n",
    "                              'Dailypseudo7Sess',\n",
    "                              'Dailypseudo30Sess',\n",
    "                              'Dailypseudo7All',\n",
    "                              'Dailypseudo30All']]\n",
    "\n",
    "new_df_syn.dropna(inplace=True)\n",
    "new_df_syn.sort_values(by=\"Date\",inplace=True)\n",
    "#new_df_syn.head()\n",
    "#print(new_df_syn.shape)\n",
    "\n",
    "X_train_syn = new_df_syn.drop(['Date','Fatigue'],axis=1)[-3000:]\n",
    "X_test_syn = new_df_syn.drop(['Date','Fatigue'],axis=1)[:1000]\n",
    "\n",
    "\n",
    "y_train_syn = new_df_syn['Fatigue'][-3000:]\n",
    "y_test_syn = new_df_syn['Fatigue'][:1000]\n",
    "\n",
    "#new_combined_df['Fatigue']"
   ]
  },
  {
   "cell_type": "code",
   "execution_count": 7,
   "metadata": {},
   "outputs": [
    {
     "name": "stdout",
     "output_type": "stream",
     "text": [
      "              precision    recall  f1-score   support\n",
      "\n",
      "         1.0       0.00      0.00      0.00        22\n",
      "         2.0       0.17      0.27      0.21        64\n",
      "         3.0       0.39      0.47      0.43       308\n",
      "         4.0       0.53      0.57      0.55       445\n",
      "         5.0       0.21      0.08      0.12        73\n",
      "         6.0       1.00      0.01      0.02        87\n",
      "         7.0       0.00      0.00      0.00         1\n",
      "\n",
      "   micro avg       0.42      0.42      0.42      1000\n",
      "   macro avg       0.33      0.20      0.19      1000\n",
      "weighted avg       0.47      0.42      0.40      1000\n",
      "\n"
     ]
    }
   ],
   "source": [
    "from sklearn.linear_model import ElasticNet\n",
    "from sklearn.ensemble import GradientBoostingClassifier\n",
    "from sklearn.metrics import classification_report\n",
    "#EL1 = ElasticNet()\n",
    "\n",
    "#EL1.fit(X_train_org,y_train_org)\n",
    "#EL1.score(X_test_org,y_test_org)\n",
    "\n",
    "gbc = GradientBoostingClassifier()\n",
    "gbc.fit(X_train_org,y_train_org)\n",
    "#gbc.score(X_test_org,y_test_org)\n",
    "y_org = gbc.predict(X_test_org)\n",
    "print(classification_report(y_test_org,y_org))"
   ]
  },
  {
   "cell_type": "code",
   "execution_count": 8,
   "metadata": {},
   "outputs": [
    {
     "name": "stdout",
     "output_type": "stream",
     "text": [
      "              precision    recall  f1-score   support\n",
      "\n",
      "         1.0       0.00      0.00      0.00        10\n",
      "         2.0       0.15      0.13      0.14        70\n",
      "         3.0       0.34      0.57      0.43       303\n",
      "         4.0       0.48      0.43      0.45       463\n",
      "         5.0       0.30      0.04      0.07        81\n",
      "         6.0       0.00      0.00      0.00        72\n",
      "         7.0       0.00      0.00      0.00         1\n",
      "\n",
      "   micro avg       0.38      0.38      0.38      1000\n",
      "   macro avg       0.18      0.17      0.15      1000\n",
      "weighted avg       0.36      0.38      0.35      1000\n",
      "\n"
     ]
    }
   ],
   "source": [
    "gbc2 = GradientBoostingClassifier()\n",
    "gbc2.fit(X_train_syn,y_train_syn)\n",
    "#gbc2.score(X_test_syn,y_test_syn)\n",
    "\n",
    "\n",
    "y_syn = gbc2.predict(X_test_syn)\n",
    "print(classification_report(y_test_syn,y_syn))"
   ]
  },
  {
   "cell_type": "code",
   "execution_count": null,
   "metadata": {},
   "outputs": [],
   "source": []
  },
  {
   "cell_type": "code",
   "execution_count": null,
   "metadata": {},
   "outputs": [],
   "source": []
  },
  {
   "cell_type": "code",
   "execution_count": 9,
   "metadata": {},
   "outputs": [
    {
     "data": {
      "text/html": [
       "<div>\n",
       "<style scoped>\n",
       "    .dataframe tbody tr th:only-of-type {\n",
       "        vertical-align: middle;\n",
       "    }\n",
       "\n",
       "    .dataframe tbody tr th {\n",
       "        vertical-align: top;\n",
       "    }\n",
       "\n",
       "    .dataframe thead th {\n",
       "        text-align: right;\n",
       "    }\n",
       "</style>\n",
       "<table border=\"1\" class=\"dataframe\">\n",
       "  <thead>\n",
       "    <tr style=\"text-align: right;\">\n",
       "      <th></th>\n",
       "      <th>Duration</th>\n",
       "      <th>RPE</th>\n",
       "      <th>SessionLoad</th>\n",
       "      <th>DailyLoad</th>\n",
       "      <th>AcuteLoad</th>\n",
       "      <th>ChronicLoad</th>\n",
       "      <th>AcuteChronicRatio</th>\n",
       "      <th>ObjectiveRating</th>\n",
       "      <th>FocusRating</th>\n",
       "      <th>Date_7</th>\n",
       "      <th>...</th>\n",
       "      <th>Sesspseudo30All</th>\n",
       "      <th>Dailypseudo7Sess</th>\n",
       "      <th>Dailypseudo30Sess</th>\n",
       "      <th>Dailypseudo7All</th>\n",
       "      <th>Dailypseudo30All</th>\n",
       "      <th>Date</th>\n",
       "      <th>PlayerID</th>\n",
       "      <th>Training</th>\n",
       "      <th>SessionType</th>\n",
       "      <th>BestOutOfMyself</th>\n",
       "    </tr>\n",
       "  </thead>\n",
       "  <tbody>\n",
       "    <tr>\n",
       "      <th>0</th>\n",
       "      <td>0.000000</td>\n",
       "      <td>0.000</td>\n",
       "      <td>0.000000</td>\n",
       "      <td>0.526502</td>\n",
       "      <td>0.419601</td>\n",
       "      <td>0.436583</td>\n",
       "      <td>0.414000</td>\n",
       "      <td>0.000000</td>\n",
       "      <td>0.0</td>\n",
       "      <td>1.0</td>\n",
       "      <td>...</td>\n",
       "      <td>0.287531</td>\n",
       "      <td>0.432711</td>\n",
       "      <td>0.950290</td>\n",
       "      <td>0.287660</td>\n",
       "      <td>0.360249</td>\n",
       "      <td>2018-07-21</td>\n",
       "      <td>13</td>\n",
       "      <td>Yes</td>\n",
       "      <td>Mobility/Recovery</td>\n",
       "      <td>0.0</td>\n",
       "    </tr>\n",
       "    <tr>\n",
       "      <th>1</th>\n",
       "      <td>0.833333</td>\n",
       "      <td>0.750</td>\n",
       "      <td>0.639860</td>\n",
       "      <td>0.000000</td>\n",
       "      <td>0.000000</td>\n",
       "      <td>0.000000</td>\n",
       "      <td>0.000000</td>\n",
       "      <td>0.000000</td>\n",
       "      <td>0.0</td>\n",
       "      <td>1.0</td>\n",
       "      <td>...</td>\n",
       "      <td>0.407680</td>\n",
       "      <td>0.599609</td>\n",
       "      <td>0.646316</td>\n",
       "      <td>0.408286</td>\n",
       "      <td>0.508037</td>\n",
       "      <td>2018-07-21</td>\n",
       "      <td>13</td>\n",
       "      <td>Yes</td>\n",
       "      <td>Game</td>\n",
       "      <td>0.0</td>\n",
       "    </tr>\n",
       "    <tr>\n",
       "      <th>2</th>\n",
       "      <td>0.766667</td>\n",
       "      <td>1.000</td>\n",
       "      <td>0.779720</td>\n",
       "      <td>0.000000</td>\n",
       "      <td>0.000000</td>\n",
       "      <td>0.000000</td>\n",
       "      <td>0.000000</td>\n",
       "      <td>0.000000</td>\n",
       "      <td>0.0</td>\n",
       "      <td>1.0</td>\n",
       "      <td>...</td>\n",
       "      <td>0.407680</td>\n",
       "      <td>0.599609</td>\n",
       "      <td>0.646316</td>\n",
       "      <td>0.408286</td>\n",
       "      <td>0.508037</td>\n",
       "      <td>2018-07-21</td>\n",
       "      <td>13</td>\n",
       "      <td>Yes</td>\n",
       "      <td>Game</td>\n",
       "      <td>0.0</td>\n",
       "    </tr>\n",
       "    <tr>\n",
       "      <th>3</th>\n",
       "      <td>0.850000</td>\n",
       "      <td>0.625</td>\n",
       "      <td>0.537688</td>\n",
       "      <td>0.504717</td>\n",
       "      <td>0.499515</td>\n",
       "      <td>0.640872</td>\n",
       "      <td>0.813084</td>\n",
       "      <td>0.666667</td>\n",
       "      <td>1.0</td>\n",
       "      <td>1.0</td>\n",
       "      <td>...</td>\n",
       "      <td>0.467335</td>\n",
       "      <td>0.544252</td>\n",
       "      <td>0.553257</td>\n",
       "      <td>0.384349</td>\n",
       "      <td>0.603187</td>\n",
       "      <td>2018-07-20</td>\n",
       "      <td>11</td>\n",
       "      <td>Yes</td>\n",
       "      <td>Game</td>\n",
       "      <td>1.0</td>\n",
       "    </tr>\n",
       "    <tr>\n",
       "      <th>4</th>\n",
       "      <td>0.850000</td>\n",
       "      <td>0.875</td>\n",
       "      <td>0.718593</td>\n",
       "      <td>0.000000</td>\n",
       "      <td>0.000000</td>\n",
       "      <td>0.000000</td>\n",
       "      <td>0.000000</td>\n",
       "      <td>0.666667</td>\n",
       "      <td>1.0</td>\n",
       "      <td>1.0</td>\n",
       "      <td>...</td>\n",
       "      <td>0.467335</td>\n",
       "      <td>0.544252</td>\n",
       "      <td>0.553257</td>\n",
       "      <td>0.384349</td>\n",
       "      <td>0.603187</td>\n",
       "      <td>2018-07-20</td>\n",
       "      <td>11</td>\n",
       "      <td>Yes</td>\n",
       "      <td>Game</td>\n",
       "      <td>1.0</td>\n",
       "    </tr>\n",
       "  </tbody>\n",
       "</table>\n",
       "<p>5 rows × 24 columns</p>\n",
       "</div>"
      ],
      "text/plain": [
       "   Duration    RPE  SessionLoad  DailyLoad  AcuteLoad  ChronicLoad  \\\n",
       "0  0.000000  0.000     0.000000   0.526502   0.419601     0.436583   \n",
       "1  0.833333  0.750     0.639860   0.000000   0.000000     0.000000   \n",
       "2  0.766667  1.000     0.779720   0.000000   0.000000     0.000000   \n",
       "3  0.850000  0.625     0.537688   0.504717   0.499515     0.640872   \n",
       "4  0.850000  0.875     0.718593   0.000000   0.000000     0.000000   \n",
       "\n",
       "   AcuteChronicRatio  ObjectiveRating  FocusRating  Date_7       ...        \\\n",
       "0           0.414000         0.000000          0.0     1.0       ...         \n",
       "1           0.000000         0.000000          0.0     1.0       ...         \n",
       "2           0.000000         0.000000          0.0     1.0       ...         \n",
       "3           0.813084         0.666667          1.0     1.0       ...         \n",
       "4           0.000000         0.666667          1.0     1.0       ...         \n",
       "\n",
       "   Sesspseudo30All  Dailypseudo7Sess  Dailypseudo30Sess  Dailypseudo7All  \\\n",
       "0         0.287531          0.432711           0.950290         0.287660   \n",
       "1         0.407680          0.599609           0.646316         0.408286   \n",
       "2         0.407680          0.599609           0.646316         0.408286   \n",
       "3         0.467335          0.544252           0.553257         0.384349   \n",
       "4         0.467335          0.544252           0.553257         0.384349   \n",
       "\n",
       "   Dailypseudo30All       Date  PlayerID  Training        SessionType  \\\n",
       "0          0.360249 2018-07-21        13       Yes  Mobility/Recovery   \n",
       "1          0.508037 2018-07-21        13       Yes               Game   \n",
       "2          0.508037 2018-07-21        13       Yes               Game   \n",
       "3          0.603187 2018-07-20        11       Yes               Game   \n",
       "4          0.603187 2018-07-20        11       Yes               Game   \n",
       "\n",
       "  BestOutOfMyself  \n",
       "0             0.0  \n",
       "1             0.0  \n",
       "2             0.0  \n",
       "3             1.0  \n",
       "4             1.0  \n",
       "\n",
       "[5 rows x 24 columns]"
      ]
     },
     "execution_count": 9,
     "metadata": {},
     "output_type": "execute_result"
    }
   ],
   "source": [
    "# Dropping missing values\n",
    "#rpe_gb = rpe_df.dropna().drop(['Date','BestOutOfMyself'],axis=1).groupby(['PlayerID','Training','SessionType']).transform(lambda x: (x- x.min())/(x.max() - x.min()))\n",
    "\n",
    "# Filling missing values with -1\n",
    "rpe_gb = rpe_df.fillna(-1).drop(['Date','BestOutOfMyself'],axis=1).groupby(['PlayerID','Training','SessionType']).transform(lambda x: (x- x.min())/(x.max() - x.min()))\n",
    "\n",
    "rpe_gb['Date'] = rpe_df['Date']\n",
    "rpe_gb['PlayerID'] = rpe_df['PlayerID']\n",
    "rpe_gb['Training'] = rpe_df['Training']\n",
    "rpe_gb['SessionType'] = rpe_df['SessionType']\n",
    "\n",
    "# Converting BestOutofMyself ordinal to numerical\n",
    "rpe_gb['BestOutOfMyself'] = rpe_df['BestOutOfMyself'].apply(lambda x: BOM_num(x))\n",
    "\n",
    "# TAKE CARE OF THIS\n",
    "#rpe_gb = rpe_gb.fillna(-1)\n",
    "\n",
    "# Resetting the index, changed due to dropping the NA values\n",
    "rpe_gb.reset_index(drop=True, inplace=True)\n",
    "rpe_gb.head()\n"
   ]
  },
  {
   "cell_type": "code",
   "execution_count": 10,
   "metadata": {},
   "outputs": [
    {
     "data": {
      "text/plain": [
       "Index(['Duration', 'RPE', 'SessionLoad', 'DailyLoad', 'AcuteLoad',\n",
       "       'ChronicLoad', 'AcuteChronicRatio', 'ObjectiveRating', 'FocusRating',\n",
       "       'Date_7', 'Date_30', 'Sesspseudo7Sess', 'Sesspseudo30Sess',\n",
       "       'Sesspseudo7All', 'Sesspseudo30All', 'Dailypseudo7Sess',\n",
       "       'Dailypseudo30Sess', 'Dailypseudo7All', 'Dailypseudo30All', 'Date',\n",
       "       'PlayerID', 'Training', 'SessionType', 'BestOutOfMyself'],\n",
       "      dtype='object')"
      ]
     },
     "execution_count": 10,
     "metadata": {},
     "output_type": "execute_result"
    }
   ],
   "source": [
    "rpe_gb.columns"
   ]
  },
  {
   "cell_type": "code",
   "execution_count": 11,
   "metadata": {},
   "outputs": [
    {
     "data": {
      "text/plain": [
       "<matplotlib.axes._subplots.AxesSubplot at 0x7f866a661550>"
      ]
     },
     "execution_count": 11,
     "metadata": {},
     "output_type": "execute_result"
    },
    {
     "data": {
      "image/png": "[encoded data removed]",
      "text/plain": [
       "<Figure size 432x288 with 1 Axes>"
      ]
     },
     "metadata": {},
     "output_type": "display_data"
    }
   ],
   "source": [
    "rpe_gb[rpe_gb['DailyLoad'] !=0][[\"DailyLoad\"]].plot.hist()"
   ]
  },
  {
   "cell_type": "code",
   "execution_count": 12,
   "metadata": {},
   "outputs": [
    {
     "data": {
      "text/plain": [
       "<matplotlib.axes._subplots.AxesSubplot at 0x7f86664d9438>"
      ]
     },
     "execution_count": 12,
     "metadata": {},
     "output_type": "execute_result"
    },
    {
     "data": {
      "image/png": "[encoded data removed]",
      "text/plain": [
       "<Figure size 432x288 with 1 Axes>"
      ]
     },
     "metadata": {},
     "output_type": "display_data"
    }
   ],
   "source": [
    "rpe_gb[rpe_gb['AcuteLoad'] !=0][[\"AcuteLoad\"]].plot.hist()"
   ]
  },
  {
   "cell_type": "code",
   "execution_count": 13,
   "metadata": {},
   "outputs": [
    {
     "data": {
      "text/plain": [
       "<matplotlib.axes._subplots.AxesSubplot at 0x7f86664b4e10>"
      ]
     },
     "execution_count": 13,
     "metadata": {},
     "output_type": "execute_result"
    },
    {
     "data": {
      "image/png": "[encoded data removed]",
      "text/plain": [
       "<Figure size 432x288 with 1 Axes>"
      ]
     },
     "metadata": {},
     "output_type": "display_data"
    }
   ],
   "source": [
    "rpe_gb[rpe_gb['ChronicLoad'] !=0][[\"ChronicLoad\"]].plot.hist()"
   ]
  },
  {
   "cell_type": "code",
   "execution_count": 14,
   "metadata": {},
   "outputs": [
    {
     "data": {
      "text/plain": [
       "<matplotlib.axes._subplots.AxesSubplot at 0x7f86663e1278>"
      ]
     },
     "execution_count": 14,
     "metadata": {},
     "output_type": "execute_result"
    },
    {
     "data": {
      "image/png": "[encoded data removed]",
      "text/plain": [
       "<Figure size 432x288 with 1 Axes>"
      ]
     },
     "metadata": {},
     "output_type": "display_data"
    }
   ],
   "source": [
    "rpe_gb[['Sesspseudo7Sess', 'Sesspseudo30Sess',\n",
    "       'Sesspseudo7All', 'Sesspseudo30All', 'Dailypseudo7Sess',\n",
    "       'Dailypseudo30Sess', 'Dailypseudo7All', 'Dailypseudo30All']].plot.hist()"
   ]
  },
  {
   "cell_type": "code",
   "execution_count": 15,
   "metadata": {},
   "outputs": [
    {
     "data": {
      "text/plain": [
       "<matplotlib.axes._subplots.AxesSubplot at 0x7f86662ed780>"
      ]
     },
     "execution_count": 15,
     "metadata": {},
     "output_type": "execute_result"
    },
    {
     "data": {
      "image/png": "[encoded data removed]",
      "text/plain": [
       "<Figure size 432x288 with 1 Axes>"
      ]
     },
     "metadata": {},
     "output_type": "display_data"
    }
   ],
   "source": [
    "rpe_gb[rpe_gb['ObjectiveRating'] !=0][['ObjectiveRating']].plot.hist()"
   ]
  },
  {
   "cell_type": "code",
   "execution_count": 16,
   "metadata": {},
   "outputs": [
    {
     "data": {
      "text/plain": [
       "<matplotlib.axes._subplots.AxesSubplot at 0x7f8666273d30>"
      ]
     },
     "execution_count": 16,
     "metadata": {},
     "output_type": "execute_result"
    },
    {
     "data": {
      "image/png": "[encoded data removed]",
      "text/plain": [
       "<Figure size 432x288 with 1 Axes>"
      ]
     },
     "metadata": {},
     "output_type": "display_data"
    }
   ],
   "source": [
    "rpe_gb[rpe_gb['FocusRating'] !=0][['FocusRating']].plot.hist()"
   ]
  },
  {
   "cell_type": "code",
   "execution_count": 17,
   "metadata": {},
   "outputs": [
    {
     "data": {
      "image/png": "[encoded data removed]",
      "text/plain": [
       "<Figure size 432x288 with 1 Axes>"
      ]
     },
     "metadata": {},
     "output_type": "display_data"
    },
    {
     "data": {
      "image/png": "[encoded data removed]",
      "text/plain": [
       "<Figure size 432x288 with 1 Axes>"
      ]
     },
     "metadata": {},
     "output_type": "display_data"
    }
   ],
   "source": [
    "rpe_gb['SessionType'].value_counts().plot.bar()\n",
    "plt.show()\n",
    "\n",
    "rpe_df['SessionType'].value_counts().plot.bar()\n",
    "plt.show()"
   ]
  },
  {
   "cell_type": "code",
   "execution_count": 18,
   "metadata": {},
   "outputs": [
    {
     "data": {
      "text/plain": [
       "<matplotlib.axes._subplots.AxesSubplot at 0x7f8666130d68>"
      ]
     },
     "execution_count": 18,
     "metadata": {},
     "output_type": "execute_result"
    },
    {
     "data": {
      "image/png": "[encoded data removed]",
      "text/plain": [
       "<Figure size 432x288 with 1 Axes>"
      ]
     },
     "metadata": {},
     "output_type": "display_data"
    }
   ],
   "source": [
    "rpe_gb['PlayerID'].value_counts().plot.bar()"
   ]
  },
  {
   "cell_type": "code",
   "execution_count": 19,
   "metadata": {},
   "outputs": [
    {
     "data": {
      "text/plain": [
       "<matplotlib.axes._subplots.AxesSubplot at 0x7f866607e198>"
      ]
     },
     "execution_count": 19,
     "metadata": {},
     "output_type": "execute_result"
    },
    {
     "data": {
      "image/png": "[encoded data removed]",
      "text/plain": [
       "<Figure size 432x288 with 1 Axes>"
      ]
     },
     "metadata": {},
     "output_type": "display_data"
    }
   ],
   "source": [
    "rpe_gb[rpe_gb['ObjectiveRating'] !=0]['ObjectiveRating'].value_counts().plot.bar()"
   ]
  },
  {
   "cell_type": "code",
   "execution_count": 20,
   "metadata": {},
   "outputs": [
    {
     "name": "stdout",
     "output_type": "stream",
     "text": [
      "-1.0    5841\n",
      " 1.0    2438\n",
      " 0.0     368\n",
      " 0.5     213\n",
      "Name: BestOutOfMyself, dtype: int64\n"
     ]
    },
    {
     "data": {
      "text/plain": [
       "<matplotlib.axes._subplots.AxesSubplot at 0x7f8665fb3630>"
      ]
     },
     "execution_count": 20,
     "metadata": {},
     "output_type": "execute_result"
    },
    {
     "data": {
      "image/png": "[encoded data removed]",
      "text/plain": [
       "<Figure size 432x288 with 1 Axes>"
      ]
     },
     "metadata": {},
     "output_type": "display_data"
    }
   ],
   "source": [
    "print(rpe_gb['BestOutOfMyself'].value_counts())\n",
    "rpe_gb[rpe_gb['BestOutOfMyself'] !=-1]['BestOutOfMyself'].value_counts().plot.bar()"
   ]
  },
  {
   "cell_type": "code",
   "execution_count": 21,
   "metadata": {},
   "outputs": [
    {
     "name": "stdout",
     "output_type": "stream",
     "text": [
      "Absolutely    2438\n",
      "Not at all     368\n",
      "Somewhat       213\n",
      "Name: BestOutOfMyself, dtype: int64\n",
      "5841\n"
     ]
    },
    {
     "data": {
      "text/plain": [
       "<matplotlib.axes._subplots.AxesSubplot at 0x7f8666198860>"
      ]
     },
     "execution_count": 21,
     "metadata": {},
     "output_type": "execute_result"
    },
    {
     "data": {
      "image/png": "[encoded data removed]",
      "text/plain": [
       "<Figure size 432x288 with 1 Axes>"
      ]
     },
     "metadata": {},
     "output_type": "display_data"
    }
   ],
   "source": [
    "print(rpe_df['BestOutOfMyself'].value_counts())\n",
    "print(rpe_df['BestOutOfMyself'].isna().sum())\n",
    "rpe_df['BestOutOfMyself'].value_counts().plot.bar()"
   ]
  },
  {
   "cell_type": "code",
   "execution_count": 22,
   "metadata": {},
   "outputs": [
    {
     "data": {
      "text/plain": [
       "<matplotlib.axes._subplots.AxesSubplot at 0x7f86661a4b00>"
      ]
     },
     "execution_count": 22,
     "metadata": {},
     "output_type": "execute_result"
    },
    {
     "data": {
      "image/png": "[encoded data removed]",
      "text/plain": [
       "<Figure size 432x288 with 1 Axes>"
      ]
     },
     "metadata": {},
     "output_type": "display_data"
    },
    {
     "data": {
      "image/png": "[encoded data removed]",
      "text/plain": [
       "<Figure size 432x288 with 1 Axes>"
      ]
     },
     "metadata": {},
     "output_type": "display_data"
    }
   ],
   "source": [
    "rpe_gb[rpe_gb['ObjectiveRating'] !=0][['ObjectiveRating']].plot.hist()\n",
    "rpe_gb[rpe_gb['FocusRating'] !=0][['FocusRating']].plot.hist()"
   ]
  },
  {
   "cell_type": "code",
   "execution_count": null,
   "metadata": {},
   "outputs": [],
   "source": []
  }
 ],
 "metadata": {
  "kernelspec": {
   "display_name": "Python 3",
   "language": "python",
   "name": "python3"
  },
  "language_info": {
   "codemirror_mode": {
    "name": "ipython",
    "version": 3
   },
   "file_extension": ".py",
   "mimetype": "text/x-python",
   "name": "python",
   "nbconvert_exporter": "python",
   "pygments_lexer": "ipython3",
   "version": "3.7.1"
  }
 },
 "nbformat": 4,
 "nbformat_minor": 2
}
